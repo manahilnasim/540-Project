{
 "cells": [
  {
   "cell_type": "code",
   "execution_count": 3,
   "id": "f80cbc58-4173-4b7e-9a51-8acaffc03025",
   "metadata": {
    "tags": []
   },
   "outputs": [
    {
     "name": "stdout",
     "output_type": "stream",
     "text": [
      "sagemaker.config INFO - Not applying SDK defaults from location: /etc/xdg/sagemaker/config.yaml\n",
      "sagemaker.config INFO - Not applying SDK defaults from location: /root/.config/sagemaker/config.yaml\n",
      "arn:aws:iam::676076160400:role/LabRole\n"
     ]
    }
   ],
   "source": [
    "from sagemaker import get_execution_role\n",
    "\n",
    "# You can modify the following to use a role of your choosing. See the documentation for how to create this.\n",
    "role = get_execution_role()\n",
    "print(role)"
   ]
  },
  {
   "cell_type": "markdown",
   "id": "b031a903-eea7-4d27-9968-445254f7a3c4",
   "metadata": {},
   "source": [
    "## Ingesting Data Into Feature Store"
   ]
  },
  {
   "cell_type": "code",
   "execution_count": 6,
   "id": "01e559ef-bf41-4a24-abbd-e360a2e8ac8b",
   "metadata": {},
   "outputs": [],
   "source": [
    "from sagemaker import get_execution_role\n",
    "import pandas as pd\n",
    "import time\n",
    "from sagemaker.feature_store.feature_definition import FeatureDefinition, FeatureTypeEnum\n",
    "from sagemaker.feature_store.feature_group import FeatureGroup\n",
    "from sagemaker.session import Session\n"
   ]
  },
  {
   "cell_type": "code",
   "execution_count": 7,
   "id": "7974f0cb-31d7-4f40-9e22-2cfc7d67e8b7",
   "metadata": {
    "tags": []
   },
   "outputs": [
    {
     "name": "stdout",
     "output_type": "stream",
     "text": [
      "Columns in DataFrame: Index(['id', 'asins', 'brand', 'categories', 'dateAdded', 'dateUpdated',\n",
      "       'imageURLs', 'keys', 'manufacturerNumber', 'name', 'primaryCategories',\n",
      "       'reviews.date', 'reviews.dateSeen', 'reviews.doRecommend',\n",
      "       'reviews.numHelpful', 'reviews.rating', 'reviews.sourceURLs',\n",
      "       'reviews.text', 'reviews.title', 'reviews.username', 'sourceURLs',\n",
      "       'upc', 'weight', 'processed_reviews', 'review_length', 'sentiment',\n",
      "       'word_count', 'num_reviews'],\n",
      "      dtype='object')\n"
     ]
    }
   ],
   "source": [
    "# Load the cleaned data\n",
    "cleaned_data_path = 'cleaned_data_with_features.csv'\n",
    "data_cleaned = pd.read_csv(cleaned_data_path)\n",
    "\n",
    "# Print the column names to verify\n",
    "print(\"Columns in DataFrame:\", data_cleaned.columns)\n",
    "\n",
    "# Add 'event_time' column with the current timestamp in ISO-8601 format\n",
    "data_cleaned['event_time'] = pd.to_datetime('now').strftime('%Y-%m-%dT%H:%M:%SZ')\n",
    "\n",
    "# Ensure 'reviews.numHelpful' column is numeric, fill NaN with 0, and cap values to fit within the range of a 64-bit signed integer\n",
    "max_int64 = 9223372036854775807  # 64-bit signed integer max value\n",
    "if 'reviews.numHelpful' in data_cleaned.columns:\n",
    "    data_cleaned['reviews.numHelpful'] = pd.to_numeric(data_cleaned['reviews.numHelpful'], errors='coerce').fillna(0).astype(int)\n",
    "    data_cleaned['reviews.numHelpful'] = data_cleaned['reviews.numHelpful'].apply(lambda x: min(x, max_int64))\n",
    "\n",
    "# Rename the columns to conform to AWS constraints\n",
    "data_cleaned.rename(columns={\n",
    "    'reviews.date': 'reviews_date',\n",
    "    'reviews.dateSeen': 'reviews_dateSeen',\n",
    "    'reviews.doRecommend': 'reviews_doRecommend',\n",
    "    'reviews.numHelpful': 'reviews_numHelpful',\n",
    "    'reviews.rating': 'reviews_rating',\n",
    "    'reviews.sourceURLs': 'reviews_sourceURLs',\n",
    "    'reviews.text': 'reviews_text',\n",
    "    'reviews.title': 'reviews_title',\n",
    "    'reviews.username': 'reviews_username',\n",
    "    'primaryCategories': 'primaryCategories',  # Adjust this if needed\n",
    "    'event_time': 'event_time'\n",
    "}, inplace=True)\n",
    "\n",
    "# Further replace any remaining non-alphanumeric characters in column names with underscores\n",
    "data_cleaned.columns = [col.replace('.', '_').replace('-', '_') for col in data_cleaned.columns]\n"
   ]
  },
  {
   "cell_type": "code",
   "execution_count": 8,
   "id": "8dc6145a-1297-4390-85d5-37ec1afddcfc",
   "metadata": {
    "tags": []
   },
   "outputs": [
    {
     "name": "stdout",
     "output_type": "stream",
     "text": [
      "No existing feature group to delete: An error occurred (ResourceNotFound) when calling the DeleteFeatureGroup operation: Resource Not Found: Amazon SageMaker can't find a FeatureGroup with name electronics_reviews_feature_group_1719844110\n"
     ]
    }
   ],
   "source": [
    "# Initialize SageMaker session\n",
    "sagemaker_session = Session()\n",
    "\n",
    "# Define a new feature group name and schema\n",
    "unique_suffix = str(int(time.time()))  # Unique suffix based on the current time\n",
    "new_feature_group_name = f'electronics_reviews_feature_group_{unique_suffix}'\n",
    "record_identifier_name = 'id'\n",
    "event_time_feature_name = 'event_time'\n",
    "s3_uri = 's3://electronics-dataset/feature-store/'  # Correct S3 URI for feature store\n",
    "\n",
    "feature_definitions = [\n",
    "    FeatureDefinition(feature_name='id', feature_type=FeatureTypeEnum.STRING),\n",
    "    FeatureDefinition(feature_name='asins', feature_type=FeatureTypeEnum.STRING),\n",
    "    FeatureDefinition(feature_name='brand', feature_type=FeatureTypeEnum.STRING),\n",
    "    FeatureDefinition(feature_name='categories', feature_type=FeatureTypeEnum.STRING),\n",
    "    FeatureDefinition(feature_name='dateAdded', feature_type=FeatureTypeEnum.STRING),\n",
    "    FeatureDefinition(feature_name='dateUpdated', feature_type=FeatureTypeEnum.STRING),\n",
    "    FeatureDefinition(feature_name='imageURLs', feature_type=FeatureTypeEnum.STRING),\n",
    "    FeatureDefinition(feature_name='keys', feature_type=FeatureTypeEnum.STRING),\n",
    "    FeatureDefinition(feature_name='manufacturerNumber', feature_type=FeatureTypeEnum.STRING),\n",
    "    FeatureDefinition(feature_name='name', feature_type=FeatureTypeEnum.STRING),\n",
    "    FeatureDefinition(feature_name='primaryCategories', feature_type=FeatureTypeEnum.STRING),\n",
    "    FeatureDefinition(feature_name='reviews_date', feature_type=FeatureTypeEnum.STRING),\n",
    "    FeatureDefinition(feature_name='reviews_dateSeen', feature_type=FeatureTypeEnum.STRING),\n",
    "    FeatureDefinition(feature_name='reviews_doRecommend', feature_type=FeatureTypeEnum.STRING),\n",
    "    FeatureDefinition(feature_name='reviews_numHelpful', feature_type=FeatureTypeEnum.INTEGRAL),\n",
    "    FeatureDefinition(feature_name='reviews_rating', feature_type=FeatureTypeEnum.FRACTIONAL),\n",
    "    FeatureDefinition(feature_name='reviews_sourceURLs', feature_type=FeatureTypeEnum.STRING),\n",
    "    FeatureDefinition(feature_name='reviews_text', feature_type=FeatureTypeEnum.STRING),\n",
    "    FeatureDefinition(feature_name='reviews_title', feature_type=FeatureTypeEnum.STRING),\n",
    "    FeatureDefinition(feature_name='reviews_username', feature_type=FeatureTypeEnum.STRING),\n",
    "    FeatureDefinition(feature_name='sourceURLs', feature_type=FeatureTypeEnum.STRING),\n",
    "    FeatureDefinition(feature_name='upc', feature_type=FeatureTypeEnum.STRING),\n",
    "    FeatureDefinition(feature_name='weight', feature_type=FeatureTypeEnum.STRING),\n",
    "    FeatureDefinition(feature_name='processed_reviews', feature_type=FeatureTypeEnum.STRING),\n",
    "    FeatureDefinition(feature_name='sentiment', feature_type=FeatureTypeEnum.STRING),\n",
    "    FeatureDefinition(feature_name='word_count', feature_type=FeatureTypeEnum.INTEGRAL),\n",
    "    FeatureDefinition(feature_name='num_reviews', feature_type=FeatureTypeEnum.INTEGRAL),\n",
    "    FeatureDefinition(feature_name='review_length', feature_type=FeatureTypeEnum.INTEGRAL),\n",
    "    FeatureDefinition(feature_name='event_time', feature_type=FeatureTypeEnum.STRING)\n",
    "]\n",
    "\n",
    "# Delete existing feature group if it exists\n",
    "try:\n",
    "    feature_group = FeatureGroup(name=new_feature_group_name, sagemaker_session=sagemaker_session)\n",
    "    feature_group.delete()\n",
    "    print(f\"Deleted existing feature group: {new_feature_group_name}\")\n",
    "except Exception as e:\n",
    "    print(f\"No existing feature group to delete: {e}\")\n"
   ]
  },
  {
   "cell_type": "code",
   "execution_count": 9,
   "id": "7ae9612f-2633-494d-a852-331a9be3cf5e",
   "metadata": {
    "tags": []
   },
   "outputs": [
    {
     "name": "stdout",
     "output_type": "stream",
     "text": [
      "Waiting for feature group creation...\n",
      "Waiting for feature group creation...\n",
      "Waiting for feature group creation...\n",
      "Waiting for feature group creation...\n",
      "Data ingestion completed.\n"
     ]
    }
   ],
   "source": [
    "# Create the new feature group\n",
    "feature_group = FeatureGroup(\n",
    "    name=new_feature_group_name,\n",
    "    feature_definitions=feature_definitions,\n",
    "    sagemaker_session=sagemaker_session\n",
    ")\n",
    "\n",
    "# Create the feature group in SageMaker\n",
    "feature_group.create(\n",
    "    s3_uri=s3_uri,\n",
    "    record_identifier_name=record_identifier_name,\n",
    "    event_time_feature_name=event_time_feature_name,\n",
    "    role_arn='arn:aws:iam::676076160400:role/LabRole'\n",
    ")\n",
    "\n",
    "# Wait for the feature group to be active\n",
    "while feature_group.describe().get(\"FeatureGroupStatus\") != \"Created\":\n",
    "    print(\"Waiting for feature group creation...\")\n",
    "    time.sleep(5)\n",
    "\n",
    "# Ingest the data into the feature store\n",
    "feature_group.ingest(data_frame=data_cleaned, max_workers=3, wait=True)\n",
    "print(\"Data ingestion completed.\")"
   ]
  },
  {
   "cell_type": "code",
   "execution_count": null,
   "id": "8d6d5297-dd1a-43c8-8c4c-ae37932ae2eb",
   "metadata": {},
   "outputs": [],
   "source": []
  }
 ],
 "metadata": {
  "availableInstances": [
   {
    "_defaultOrder": 0,
    "_isFastLaunch": true,
    "category": "General purpose",
    "gpuNum": 0,
    "hideHardwareSpecs": false,
    "memoryGiB": 4,
    "name": "ml.t3.medium",
    "vcpuNum": 2
   },
   {
    "_defaultOrder": 1,
    "_isFastLaunch": false,
    "category": "General purpose",
    "gpuNum": 0,
    "hideHardwareSpecs": false,
    "memoryGiB": 8,
    "name": "ml.t3.large",
    "vcpuNum": 2
   },
   {
    "_defaultOrder": 2,
    "_isFastLaunch": false,
    "category": "General purpose",
    "gpuNum": 0,
    "hideHardwareSpecs": false,
    "memoryGiB": 16,
    "name": "ml.t3.xlarge",
    "vcpuNum": 4
   },
   {
    "_defaultOrder": 3,
    "_isFastLaunch": false,
    "category": "General purpose",
    "gpuNum": 0,
    "hideHardwareSpecs": false,
    "memoryGiB": 32,
    "name": "ml.t3.2xlarge",
    "vcpuNum": 8
   },
   {
    "_defaultOrder": 4,
    "_isFastLaunch": true,
    "category": "General purpose",
    "gpuNum": 0,
    "hideHardwareSpecs": false,
    "memoryGiB": 8,
    "name": "ml.m5.large",
    "vcpuNum": 2
   },
   {
    "_defaultOrder": 5,
    "_isFastLaunch": false,
    "category": "General purpose",
    "gpuNum": 0,
    "hideHardwareSpecs": false,
    "memoryGiB": 16,
    "name": "ml.m5.xlarge",
    "vcpuNum": 4
   },
   {
    "_defaultOrder": 6,
    "_isFastLaunch": false,
    "category": "General purpose",
    "gpuNum": 0,
    "hideHardwareSpecs": false,
    "memoryGiB": 32,
    "name": "ml.m5.2xlarge",
    "vcpuNum": 8
   },
   {
    "_defaultOrder": 7,
    "_isFastLaunch": false,
    "category": "General purpose",
    "gpuNum": 0,
    "hideHardwareSpecs": false,
    "memoryGiB": 64,
    "name": "ml.m5.4xlarge",
    "vcpuNum": 16
   },
   {
    "_defaultOrder": 8,
    "_isFastLaunch": false,
    "category": "General purpose",
    "gpuNum": 0,
    "hideHardwareSpecs": false,
    "memoryGiB": 128,
    "name": "ml.m5.8xlarge",
    "vcpuNum": 32
   },
   {
    "_defaultOrder": 9,
    "_isFastLaunch": false,
    "category": "General purpose",
    "gpuNum": 0,
    "hideHardwareSpecs": false,
    "memoryGiB": 192,
    "name": "ml.m5.12xlarge",
    "vcpuNum": 48
   },
   {
    "_defaultOrder": 10,
    "_isFastLaunch": false,
    "category": "General purpose",
    "gpuNum": 0,
    "hideHardwareSpecs": false,
    "memoryGiB": 256,
    "name": "ml.m5.16xlarge",
    "vcpuNum": 64
   },
   {
    "_defaultOrder": 11,
    "_isFastLaunch": false,
    "category": "General purpose",
    "gpuNum": 0,
    "hideHardwareSpecs": false,
    "memoryGiB": 384,
    "name": "ml.m5.24xlarge",
    "vcpuNum": 96
   },
   {
    "_defaultOrder": 12,
    "_isFastLaunch": false,
    "category": "General purpose",
    "gpuNum": 0,
    "hideHardwareSpecs": false,
    "memoryGiB": 8,
    "name": "ml.m5d.large",
    "vcpuNum": 2
   },
   {
    "_defaultOrder": 13,
    "_isFastLaunch": false,
    "category": "General purpose",
    "gpuNum": 0,
    "hideHardwareSpecs": false,
    "memoryGiB": 16,
    "name": "ml.m5d.xlarge",
    "vcpuNum": 4
   },
   {
    "_defaultOrder": 14,
    "_isFastLaunch": false,
    "category": "General purpose",
    "gpuNum": 0,
    "hideHardwareSpecs": false,
    "memoryGiB": 32,
    "name": "ml.m5d.2xlarge",
    "vcpuNum": 8
   },
   {
    "_defaultOrder": 15,
    "_isFastLaunch": false,
    "category": "General purpose",
    "gpuNum": 0,
    "hideHardwareSpecs": false,
    "memoryGiB": 64,
    "name": "ml.m5d.4xlarge",
    "vcpuNum": 16
   },
   {
    "_defaultOrder": 16,
    "_isFastLaunch": false,
    "category": "General purpose",
    "gpuNum": 0,
    "hideHardwareSpecs": false,
    "memoryGiB": 128,
    "name": "ml.m5d.8xlarge",
    "vcpuNum": 32
   },
   {
    "_defaultOrder": 17,
    "_isFastLaunch": false,
    "category": "General purpose",
    "gpuNum": 0,
    "hideHardwareSpecs": false,
    "memoryGiB": 192,
    "name": "ml.m5d.12xlarge",
    "vcpuNum": 48
   },
   {
    "_defaultOrder": 18,
    "_isFastLaunch": false,
    "category": "General purpose",
    "gpuNum": 0,
    "hideHardwareSpecs": false,
    "memoryGiB": 256,
    "name": "ml.m5d.16xlarge",
    "vcpuNum": 64
   },
   {
    "_defaultOrder": 19,
    "_isFastLaunch": false,
    "category": "General purpose",
    "gpuNum": 0,
    "hideHardwareSpecs": false,
    "memoryGiB": 384,
    "name": "ml.m5d.24xlarge",
    "vcpuNum": 96
   },
   {
    "_defaultOrder": 20,
    "_isFastLaunch": false,
    "category": "General purpose",
    "gpuNum": 0,
    "hideHardwareSpecs": true,
    "memoryGiB": 0,
    "name": "ml.geospatial.interactive",
    "supportedImageNames": [
     "sagemaker-geospatial-v1-0"
    ],
    "vcpuNum": 0
   },
   {
    "_defaultOrder": 21,
    "_isFastLaunch": true,
    "category": "Compute optimized",
    "gpuNum": 0,
    "hideHardwareSpecs": false,
    "memoryGiB": 4,
    "name": "ml.c5.large",
    "vcpuNum": 2
   },
   {
    "_defaultOrder": 22,
    "_isFastLaunch": false,
    "category": "Compute optimized",
    "gpuNum": 0,
    "hideHardwareSpecs": false,
    "memoryGiB": 8,
    "name": "ml.c5.xlarge",
    "vcpuNum": 4
   },
   {
    "_defaultOrder": 23,
    "_isFastLaunch": false,
    "category": "Compute optimized",
    "gpuNum": 0,
    "hideHardwareSpecs": false,
    "memoryGiB": 16,
    "name": "ml.c5.2xlarge",
    "vcpuNum": 8
   },
   {
    "_defaultOrder": 24,
    "_isFastLaunch": false,
    "category": "Compute optimized",
    "gpuNum": 0,
    "hideHardwareSpecs": false,
    "memoryGiB": 32,
    "name": "ml.c5.4xlarge",
    "vcpuNum": 16
   },
   {
    "_defaultOrder": 25,
    "_isFastLaunch": false,
    "category": "Compute optimized",
    "gpuNum": 0,
    "hideHardwareSpecs": false,
    "memoryGiB": 72,
    "name": "ml.c5.9xlarge",
    "vcpuNum": 36
   },
   {
    "_defaultOrder": 26,
    "_isFastLaunch": false,
    "category": "Compute optimized",
    "gpuNum": 0,
    "hideHardwareSpecs": false,
    "memoryGiB": 96,
    "name": "ml.c5.12xlarge",
    "vcpuNum": 48
   },
   {
    "_defaultOrder": 27,
    "_isFastLaunch": false,
    "category": "Compute optimized",
    "gpuNum": 0,
    "hideHardwareSpecs": false,
    "memoryGiB": 144,
    "name": "ml.c5.18xlarge",
    "vcpuNum": 72
   },
   {
    "_defaultOrder": 28,
    "_isFastLaunch": false,
    "category": "Compute optimized",
    "gpuNum": 0,
    "hideHardwareSpecs": false,
    "memoryGiB": 192,
    "name": "ml.c5.24xlarge",
    "vcpuNum": 96
   },
   {
    "_defaultOrder": 29,
    "_isFastLaunch": true,
    "category": "Accelerated computing",
    "gpuNum": 1,
    "hideHardwareSpecs": false,
    "memoryGiB": 16,
    "name": "ml.g4dn.xlarge",
    "vcpuNum": 4
   },
   {
    "_defaultOrder": 30,
    "_isFastLaunch": false,
    "category": "Accelerated computing",
    "gpuNum": 1,
    "hideHardwareSpecs": false,
    "memoryGiB": 32,
    "name": "ml.g4dn.2xlarge",
    "vcpuNum": 8
   },
   {
    "_defaultOrder": 31,
    "_isFastLaunch": false,
    "category": "Accelerated computing",
    "gpuNum": 1,
    "hideHardwareSpecs": false,
    "memoryGiB": 64,
    "name": "ml.g4dn.4xlarge",
    "vcpuNum": 16
   },
   {
    "_defaultOrder": 32,
    "_isFastLaunch": false,
    "category": "Accelerated computing",
    "gpuNum": 1,
    "hideHardwareSpecs": false,
    "memoryGiB": 128,
    "name": "ml.g4dn.8xlarge",
    "vcpuNum": 32
   },
   {
    "_defaultOrder": 33,
    "_isFastLaunch": false,
    "category": "Accelerated computing",
    "gpuNum": 4,
    "hideHardwareSpecs": false,
    "memoryGiB": 192,
    "name": "ml.g4dn.12xlarge",
    "vcpuNum": 48
   },
   {
    "_defaultOrder": 34,
    "_isFastLaunch": false,
    "category": "Accelerated computing",
    "gpuNum": 1,
    "hideHardwareSpecs": false,
    "memoryGiB": 256,
    "name": "ml.g4dn.16xlarge",
    "vcpuNum": 64
   },
   {
    "_defaultOrder": 35,
    "_isFastLaunch": false,
    "category": "Accelerated computing",
    "gpuNum": 1,
    "hideHardwareSpecs": false,
    "memoryGiB": 61,
    "name": "ml.p3.2xlarge",
    "vcpuNum": 8
   },
   {
    "_defaultOrder": 36,
    "_isFastLaunch": false,
    "category": "Accelerated computing",
    "gpuNum": 4,
    "hideHardwareSpecs": false,
    "memoryGiB": 244,
    "name": "ml.p3.8xlarge",
    "vcpuNum": 32
   },
   {
    "_defaultOrder": 37,
    "_isFastLaunch": false,
    "category": "Accelerated computing",
    "gpuNum": 8,
    "hideHardwareSpecs": false,
    "memoryGiB": 488,
    "name": "ml.p3.16xlarge",
    "vcpuNum": 64
   },
   {
    "_defaultOrder": 38,
    "_isFastLaunch": false,
    "category": "Accelerated computing",
    "gpuNum": 8,
    "hideHardwareSpecs": false,
    "memoryGiB": 768,
    "name": "ml.p3dn.24xlarge",
    "vcpuNum": 96
   },
   {
    "_defaultOrder": 39,
    "_isFastLaunch": false,
    "category": "Memory Optimized",
    "gpuNum": 0,
    "hideHardwareSpecs": false,
    "memoryGiB": 16,
    "name": "ml.r5.large",
    "vcpuNum": 2
   },
   {
    "_defaultOrder": 40,
    "_isFastLaunch": false,
    "category": "Memory Optimized",
    "gpuNum": 0,
    "hideHardwareSpecs": false,
    "memoryGiB": 32,
    "name": "ml.r5.xlarge",
    "vcpuNum": 4
   },
   {
    "_defaultOrder": 41,
    "_isFastLaunch": false,
    "category": "Memory Optimized",
    "gpuNum": 0,
    "hideHardwareSpecs": false,
    "memoryGiB": 64,
    "name": "ml.r5.2xlarge",
    "vcpuNum": 8
   },
   {
    "_defaultOrder": 42,
    "_isFastLaunch": false,
    "category": "Memory Optimized",
    "gpuNum": 0,
    "hideHardwareSpecs": false,
    "memoryGiB": 128,
    "name": "ml.r5.4xlarge",
    "vcpuNum": 16
   },
   {
    "_defaultOrder": 43,
    "_isFastLaunch": false,
    "category": "Memory Optimized",
    "gpuNum": 0,
    "hideHardwareSpecs": false,
    "memoryGiB": 256,
    "name": "ml.r5.8xlarge",
    "vcpuNum": 32
   },
   {
    "_defaultOrder": 44,
    "_isFastLaunch": false,
    "category": "Memory Optimized",
    "gpuNum": 0,
    "hideHardwareSpecs": false,
    "memoryGiB": 384,
    "name": "ml.r5.12xlarge",
    "vcpuNum": 48
   },
   {
    "_defaultOrder": 45,
    "_isFastLaunch": false,
    "category": "Memory Optimized",
    "gpuNum": 0,
    "hideHardwareSpecs": false,
    "memoryGiB": 512,
    "name": "ml.r5.16xlarge",
    "vcpuNum": 64
   },
   {
    "_defaultOrder": 46,
    "_isFastLaunch": false,
    "category": "Memory Optimized",
    "gpuNum": 0,
    "hideHardwareSpecs": false,
    "memoryGiB": 768,
    "name": "ml.r5.24xlarge",
    "vcpuNum": 96
   },
   {
    "_defaultOrder": 47,
    "_isFastLaunch": false,
    "category": "Accelerated computing",
    "gpuNum": 1,
    "hideHardwareSpecs": false,
    "memoryGiB": 16,
    "name": "ml.g5.xlarge",
    "vcpuNum": 4
   },
   {
    "_defaultOrder": 48,
    "_isFastLaunch": false,
    "category": "Accelerated computing",
    "gpuNum": 1,
    "hideHardwareSpecs": false,
    "memoryGiB": 32,
    "name": "ml.g5.2xlarge",
    "vcpuNum": 8
   },
   {
    "_defaultOrder": 49,
    "_isFastLaunch": false,
    "category": "Accelerated computing",
    "gpuNum": 1,
    "hideHardwareSpecs": false,
    "memoryGiB": 64,
    "name": "ml.g5.4xlarge",
    "vcpuNum": 16
   },
   {
    "_defaultOrder": 50,
    "_isFastLaunch": false,
    "category": "Accelerated computing",
    "gpuNum": 1,
    "hideHardwareSpecs": false,
    "memoryGiB": 128,
    "name": "ml.g5.8xlarge",
    "vcpuNum": 32
   },
   {
    "_defaultOrder": 51,
    "_isFastLaunch": false,
    "category": "Accelerated computing",
    "gpuNum": 1,
    "hideHardwareSpecs": false,
    "memoryGiB": 256,
    "name": "ml.g5.16xlarge",
    "vcpuNum": 64
   },
   {
    "_defaultOrder": 52,
    "_isFastLaunch": false,
    "category": "Accelerated computing",
    "gpuNum": 4,
    "hideHardwareSpecs": false,
    "memoryGiB": 192,
    "name": "ml.g5.12xlarge",
    "vcpuNum": 48
   },
   {
    "_defaultOrder": 53,
    "_isFastLaunch": false,
    "category": "Accelerated computing",
    "gpuNum": 4,
    "hideHardwareSpecs": false,
    "memoryGiB": 384,
    "name": "ml.g5.24xlarge",
    "vcpuNum": 96
   },
   {
    "_defaultOrder": 54,
    "_isFastLaunch": false,
    "category": "Accelerated computing",
    "gpuNum": 8,
    "hideHardwareSpecs": false,
    "memoryGiB": 768,
    "name": "ml.g5.48xlarge",
    "vcpuNum": 192
   },
   {
    "_defaultOrder": 55,
    "_isFastLaunch": false,
    "category": "Accelerated computing",
    "gpuNum": 8,
    "hideHardwareSpecs": false,
    "memoryGiB": 1152,
    "name": "ml.p4d.24xlarge",
    "vcpuNum": 96
   },
   {
    "_defaultOrder": 56,
    "_isFastLaunch": false,
    "category": "Accelerated computing",
    "gpuNum": 8,
    "hideHardwareSpecs": false,
    "memoryGiB": 1152,
    "name": "ml.p4de.24xlarge",
    "vcpuNum": 96
   },
   {
    "_defaultOrder": 57,
    "_isFastLaunch": false,
    "category": "Accelerated computing",
    "gpuNum": 0,
    "hideHardwareSpecs": false,
    "memoryGiB": 32,
    "name": "ml.trn1.2xlarge",
    "vcpuNum": 8
   },
   {
    "_defaultOrder": 58,
    "_isFastLaunch": false,
    "category": "Accelerated computing",
    "gpuNum": 0,
    "hideHardwareSpecs": false,
    "memoryGiB": 512,
    "name": "ml.trn1.32xlarge",
    "vcpuNum": 128
   },
   {
    "_defaultOrder": 59,
    "_isFastLaunch": false,
    "category": "Accelerated computing",
    "gpuNum": 0,
    "hideHardwareSpecs": false,
    "memoryGiB": 512,
    "name": "ml.trn1n.32xlarge",
    "vcpuNum": 128
   }
  ],
  "instance_type": "ml.t3.medium",
  "kernelspec": {
   "display_name": "Python 3 (Data Science 3.0)",
   "language": "python",
   "name": "python3__SAGEMAKER_INTERNAL__arn:aws:sagemaker:us-east-1:081325390199:image/sagemaker-data-science-310-v1"
  },
  "language_info": {
   "codemirror_mode": {
    "name": "ipython",
    "version": 3
   },
   "file_extension": ".py",
   "mimetype": "text/x-python",
   "name": "python",
   "nbconvert_exporter": "python",
   "pygments_lexer": "ipython3",
   "version": "3.10.6"
  }
 },
 "nbformat": 4,
 "nbformat_minor": 5
}
