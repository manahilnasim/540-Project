{
 "cells": [
  {
   "cell_type": "markdown",
   "id": "b321987b-eed8-4137-b26f-a0f919393c9a",
   "metadata": {},
   "source": [
    "## Load and Split the Data"
   ]
  },
  {
   "cell_type": "code",
   "execution_count": 21,
   "id": "0806c56e-471c-4ef0-90ba-18f6b3c1d427",
   "metadata": {
    "tags": []
   },
   "outputs": [],
   "source": [
    "import pandas as pd\n",
    "from sklearn.model_selection import train_test_split\n",
    "import boto3\n",
    "from sklearn.datasets import dump_svmlight_file\n",
    "import sagemaker\n",
    "from sagemaker import get_execution_role\n",
    "from sagemaker.image_uris import retrieve\n",
    "from sagemaker.serializers import LibSVMSerializer\n",
    "from sagemaker.deserializers import JSONDeserializer\n",
    "from sklearn.metrics import accuracy_score, confusion_matrix, classification_report\n",
    "from sagemaker.serializers import CSVSerializer"
   ]
  },
  {
   "cell_type": "code",
   "execution_count": 2,
   "id": "b010066f-cb21-46a4-abda-4fed807c2fdd",
   "metadata": {
    "tags": []
   },
   "outputs": [
    {
     "name": "stdout",
     "output_type": "stream",
     "text": [
      "Datasets have been split and saved as CSV files.\n"
     ]
    }
   ],
   "source": [
    "import pandas as pd\n",
    "from sklearn.model_selection import train_test_split\n",
    "\n",
    "# Load the cleaned data\n",
    "cleaned_data_path = 'cleaned_data_with_features.csv'\n",
    "data_cleaned = pd.read_csv(cleaned_data_path)\n",
    "\n",
    "# Split data into training (40%), validation (10%), test (10%), and production (40%)\n",
    "train_data, temp_data = train_test_split(data_cleaned, test_size=0.60, random_state=42)\n",
    "val_data, test_data = train_test_split(temp_data, test_size=0.5, random_state=42)\n",
    "prod_data = test_data  # Using the same 40% for test and production\n",
    "\n",
    "# Save datasets to CSV files\n",
    "train_data.to_csv('train_data.csv', index=False)\n",
    "val_data.to_csv('val_data.csv', index=False)\n",
    "test_data.to_csv('test_data.csv', index=False)\n",
    "prod_data.to_csv('prod_data.csv', index=False)\n",
    "\n",
    "print(\"Datasets have been split and saved as CSV files.\")"
   ]
  },
  {
   "cell_type": "markdown",
   "id": "a6cb55f6-7803-4da2-8303-d23449de9ae2",
   "metadata": {},
   "source": [
    "## Upload the Datasets to S3"
   ]
  },
  {
   "cell_type": "code",
   "execution_count": 3,
   "id": "edbd5392-ff82-429a-9d50-502057044ddb",
   "metadata": {
    "tags": []
   },
   "outputs": [
    {
     "name": "stdout",
     "output_type": "stream",
     "text": [
      "Training data uploaded to s3://electronics-dataset/sagemaker/benchmark-model/train/train_data.csv\n",
      "Validation data uploaded to s3://electronics-dataset/sagemaker/benchmark-model/val/val_data.csv\n",
      "Test data uploaded to s3://electronics-dataset/sagemaker/benchmark-model/test/test_data.csv\n",
      "Production data uploaded to s3://electronics-dataset/sagemaker/benchmark-model/prod/prod_data.csv\n"
     ]
    }
   ],
   "source": [
    "import boto3\n",
    "\n",
    "s3 = boto3.client('s3')\n",
    "bucket_name = 'electronics-dataset'\n",
    "\n",
    "# Define paths for S3\n",
    "s3_train_path = 'sagemaker/benchmark-model/train/train_data.csv'\n",
    "s3_val_path = 'sagemaker/benchmark-model/val/val_data.csv'\n",
    "s3_test_path = 'sagemaker/benchmark-model/test/test_data.csv'\n",
    "s3_prod_path = 'sagemaker/benchmark-model/prod/prod_data.csv'\n",
    "\n",
    "# Upload the CSV files to S3\n",
    "s3.upload_file('train_data.csv', bucket_name, s3_train_path)\n",
    "s3.upload_file('val_data.csv', bucket_name, s3_val_path)\n",
    "s3.upload_file('test_data.csv', bucket_name, s3_test_path)\n",
    "s3.upload_file('prod_data.csv', bucket_name, s3_prod_path)\n",
    "\n",
    "print(f\"Training data uploaded to s3://{bucket_name}/{s3_train_path}\")\n",
    "print(f\"Validation data uploaded to s3://{bucket_name}/{s3_val_path}\")\n",
    "print(f\"Test data uploaded to s3://{bucket_name}/{s3_test_path}\")\n",
    "print(f\"Production data uploaded to s3://{bucket_name}/{s3_prod_path}\")"
   ]
  },
  {
   "cell_type": "markdown",
   "id": "eba189d3-f32c-4116-b7b2-2cb06b05bb1f",
   "metadata": {},
   "source": [
    "## Convert Ratings to Binary Labels"
   ]
  },
  {
   "cell_type": "code",
   "execution_count": 4,
   "id": "f92a6061-5b0e-4199-857c-cc633fd868ac",
   "metadata": {
    "tags": []
   },
   "outputs": [],
   "source": [
    "import pandas as pd\n",
    "\n",
    "def convert_to_binary_labels(input_csv_path, output_csv_path, threshold=3):\n",
    "    df = pd.read_csv(input_csv_path)\n",
    "    # Convert ratings to binary labels\n",
    "    df['reviews.rating'] = (df['reviews.rating'] > threshold).astype(int)\n",
    "    df.to_csv(output_csv_path, index=False)\n",
    "\n",
    "# Convert the training, validation, and test data\n",
    "convert_to_binary_labels('train_data.csv', 'train_data_binary.csv')\n",
    "convert_to_binary_labels('val_data.csv', 'val_data_binary.csv')\n",
    "convert_to_binary_labels('test_data.csv', 'test_data_binary.csv')\n",
    "convert_to_binary_labels('prod_data.csv', 'prod_data_binary.csv')"
   ]
  },
  {
   "cell_type": "markdown",
   "id": "e8ed5482-0f38-4acf-bfb7-8bcfcb876f49",
   "metadata": {},
   "source": [
    "## Convert Binary CSV to LibSVM Format"
   ]
  },
  {
   "cell_type": "code",
   "execution_count": 5,
   "id": "80753bdc-c22c-4e41-8bfb-105976d12b1d",
   "metadata": {
    "tags": []
   },
   "outputs": [],
   "source": [
    "from sklearn.datasets import dump_svmlight_file\n",
    "import pandas as pd\n",
    "\n",
    "def convert_to_libsvm(input_csv_path, output_libsvm_path, label_column):\n",
    "    df = pd.read_csv(input_csv_path)\n",
    "    labels = df[label_column]\n",
    "    features = df.select_dtypes(include=[float, int]).drop(columns=[label_column])  # Select only numeric columns\n",
    "    dump_svmlight_file(features, labels, output_libsvm_path, zero_based=True)\n",
    "\n",
    "# Convert the binary training data\n",
    "convert_to_libsvm('train_data_binary.csv', 'train_data.libsvm', 'reviews.rating')\n",
    "convert_to_libsvm('val_data_binary.csv', 'val_data.libsvm', 'reviews.rating')\n",
    "convert_to_libsvm('test_data_binary.csv', 'test_data.libsvm', 'reviews.rating')\n",
    "convert_to_libsvm('prod_data_binary.csv', 'prod_data.libsvm', 'reviews.rating')"
   ]
  },
  {
   "cell_type": "markdown",
   "id": "3762aff6-d552-422b-9f4f-8f817734ef93",
   "metadata": {},
   "source": [
    "##  Upload the LibSVM Files to S3"
   ]
  },
  {
   "cell_type": "code",
   "execution_count": 6,
   "id": "5a7ed6ad-1653-4909-94bb-7c9198492921",
   "metadata": {
    "tags": []
   },
   "outputs": [
    {
     "name": "stdout",
     "output_type": "stream",
     "text": [
      "Training data uploaded to s3://electronics-dataset/sagemaker/benchmark-model/train/train_data.libsvm\n",
      "Validation data uploaded to s3://electronics-dataset/sagemaker/benchmark-model/val/val_data.libsvm\n",
      "Test data uploaded to s3://electronics-dataset/sagemaker/benchmark-model/test/test_data.libsvm\n",
      "Production data uploaded to s3://electronics-dataset/sagemaker/benchmark-model/prod/prod_data.libsvm\n"
     ]
    }
   ],
   "source": [
    "import boto3\n",
    "\n",
    "s3 = boto3.client('s3')\n",
    "bucket_name = 'electronics-dataset'\n",
    "\n",
    "# Define paths for S3\n",
    "s3_train_path = 'sagemaker/benchmark-model/train/train_data.libsvm'\n",
    "s3_val_path = 'sagemaker/benchmark-model/val/val_data.libsvm'\n",
    "s3_test_path = 'sagemaker/benchmark-model/test/test_data.libsvm'\n",
    "s3_prod_path = 'sagemaker/benchmark-model/prod/prod_data.libsvm'\n",
    "\n",
    "# Upload the LibSVM files to S3\n",
    "s3.upload_file('train_data.libsvm', bucket_name, s3_train_path)\n",
    "s3.upload_file('val_data.libsvm', bucket_name, s3_val_path)\n",
    "s3.upload_file('test_data.libsvm', bucket_name, s3_test_path)\n",
    "s3.upload_file('prod_data.libsvm', bucket_name, s3_prod_path)\n",
    "\n",
    "print(f\"Training data uploaded to s3://{bucket_name}/{s3_train_path}\")\n",
    "print(f\"Validation data uploaded to s3://{bucket_name}/{s3_val_path}\")\n",
    "print(f\"Test data uploaded to s3://{bucket_name}/{s3_test_path}\")\n",
    "print(f\"Production data uploaded to s3://{bucket_name}/{s3_prod_path}\")"
   ]
  },
  {
   "cell_type": "markdown",
   "id": "3f778336-ac15-4966-b21b-6bc9cc4cfa9c",
   "metadata": {},
   "source": [
    "## Train the Benchmark Model\n"
   ]
  },
  {
   "cell_type": "code",
   "execution_count": 7,
   "id": "6a1a887e-3c6a-4aec-8be3-5e7499fbd9e6",
   "metadata": {
    "tags": []
   },
   "outputs": [
    {
     "name": "stdout",
     "output_type": "stream",
     "text": [
      "sagemaker.config INFO - Not applying SDK defaults from location: /etc/xdg/sagemaker/config.yaml\n",
      "sagemaker.config INFO - Not applying SDK defaults from location: /root/.config/sagemaker/config.yaml\n"
     ]
    },
    {
     "name": "stderr",
     "output_type": "stream",
     "text": [
      "INFO:sagemaker:Creating training-job with name: xgboost-2024-06-30-21-09-10-383\n"
     ]
    },
    {
     "name": "stdout",
     "output_type": "stream",
     "text": [
      "2024-06-30 21:09:10 Starting - Starting the training job...\n",
      "2024-06-30 21:09:26 Starting - Preparing the instances for training...\n",
      "2024-06-30 21:09:51 Downloading - Downloading input data...\n",
      "2024-06-30 21:10:16 Downloading - Downloading the training image...\n",
      "2024-06-30 21:11:07 Training - Training image download completed. Training in progress.\n",
      "2024-06-30 21:11:07 Uploading - Uploading generated training model\u001b[34mArguments: train\u001b[0m\n",
      "\u001b[34m[2024-06-30:21:10:59:INFO] Running standalone xgboost training.\u001b[0m\n",
      "\u001b[34m[2024-06-30:21:10:59:INFO] File size need to be processed in the node: 0.16mb. Available memory size in the node: 8147.97mb\u001b[0m\n",
      "\u001b[34m[21:10:59] S3DistributionType set as FullyReplicated\u001b[0m\n",
      "\u001b[34m[21:10:59] 2850x5 matrix with 11400 entries loaded from /opt/ml/input/data/train\u001b[0m\n",
      "\u001b[34m[21:10:59] S3DistributionType set as FullyReplicated\u001b[0m\n",
      "\u001b[34m[21:10:59] 2138x5 matrix with 8552 entries loaded from /opt/ml/input/data/validation\u001b[0m\n",
      "\u001b[34m[21:10:59] src/tree/updater_prune.cc:74: tree pruning end, 1 roots, 64 extra nodes, 0 pruned nodes, max_depth=6\u001b[0m\n",
      "\u001b[34m[0]#011train-error:0.126667#011validation-error:0.148269\u001b[0m\n",
      "\u001b[34m[21:10:59] src/tree/updater_prune.cc:74: tree pruning end, 1 roots, 68 extra nodes, 0 pruned nodes, max_depth=6\u001b[0m\n",
      "\u001b[34m[1]#011train-error:0.123158#011validation-error:0.14406\u001b[0m\n",
      "\u001b[34m[21:10:59] src/tree/updater_prune.cc:74: tree pruning end, 1 roots, 80 extra nodes, 0 pruned nodes, max_depth=6\u001b[0m\n",
      "\u001b[34m[2]#011train-error:0.124211#011validation-error:0.141721\u001b[0m\n",
      "\u001b[34m[21:10:59] src/tree/updater_prune.cc:74: tree pruning end, 1 roots, 64 extra nodes, 0 pruned nodes, max_depth=6\u001b[0m\n",
      "\u001b[34m[3]#011train-error:0.122807#011validation-error:0.141254\u001b[0m\n",
      "\u001b[34m[21:10:59] src/tree/updater_prune.cc:74: tree pruning end, 1 roots, 70 extra nodes, 0 pruned nodes, max_depth=6\u001b[0m\n",
      "\u001b[34m[4]#011train-error:0.121053#011validation-error:0.140318\u001b[0m\n",
      "\u001b[34m[21:10:59] src/tree/updater_prune.cc:74: tree pruning end, 1 roots, 80 extra nodes, 0 pruned nodes, max_depth=6\u001b[0m\n",
      "\u001b[34m[5]#011train-error:0.123158#011validation-error:0.139383\u001b[0m\n",
      "\u001b[34m[21:10:59] src/tree/updater_prune.cc:74: tree pruning end, 1 roots, 72 extra nodes, 0 pruned nodes, max_depth=6\u001b[0m\n",
      "\u001b[34m[6]#011train-error:0.120702#011validation-error:0.138915\u001b[0m\n",
      "\u001b[34m[21:10:59] src/tree/updater_prune.cc:74: tree pruning end, 1 roots, 58 extra nodes, 0 pruned nodes, max_depth=6\u001b[0m\n",
      "\u001b[34m[7]#011train-error:0.119298#011validation-error:0.139383\u001b[0m\n",
      "\u001b[34m[21:10:59] src/tree/updater_prune.cc:74: tree pruning end, 1 roots, 64 extra nodes, 0 pruned nodes, max_depth=6\u001b[0m\n",
      "\u001b[34m[8]#011train-error:0.120351#011validation-error:0.13985\u001b[0m\n",
      "\u001b[34m[21:10:59] src/tree/updater_prune.cc:74: tree pruning end, 1 roots, 76 extra nodes, 0 pruned nodes, max_depth=6\u001b[0m\n",
      "\u001b[34m[9]#011train-error:0.120351#011validation-error:0.139383\u001b[0m\n",
      "\u001b[34m[21:10:59] src/tree/updater_prune.cc:74: tree pruning end, 1 roots, 70 extra nodes, 0 pruned nodes, max_depth=6\u001b[0m\n",
      "\u001b[34m[10]#011train-error:0.120351#011validation-error:0.13985\u001b[0m\n",
      "\u001b[34m[21:10:59] src/tree/updater_prune.cc:74: tree pruning end, 1 roots, 66 extra nodes, 0 pruned nodes, max_depth=6\u001b[0m\n",
      "\u001b[34m[11]#011train-error:0.119298#011validation-error:0.13985\u001b[0m\n",
      "\u001b[34m[21:10:59] src/tree/updater_prune.cc:74: tree pruning end, 1 roots, 48 extra nodes, 0 pruned nodes, max_depth=6\u001b[0m\n",
      "\u001b[34m[12]#011train-error:0.118596#011validation-error:0.13985\u001b[0m\n",
      "\u001b[34m[21:10:59] src/tree/updater_prune.cc:74: tree pruning end, 1 roots, 30 extra nodes, 0 pruned nodes, max_depth=6\u001b[0m\n",
      "\u001b[34m[13]#011train-error:0.118246#011validation-error:0.13985\u001b[0m\n",
      "\u001b[34m[21:10:59] src/tree/updater_prune.cc:74: tree pruning end, 1 roots, 34 extra nodes, 0 pruned nodes, max_depth=6\u001b[0m\n",
      "\u001b[34m[14]#011train-error:0.116842#011validation-error:0.139383\u001b[0m\n",
      "\u001b[34m[21:10:59] src/tree/updater_prune.cc:74: tree pruning end, 1 roots, 30 extra nodes, 0 pruned nodes, max_depth=6\u001b[0m\n",
      "\u001b[34m[15]#011train-error:0.117193#011validation-error:0.139383\u001b[0m\n",
      "\u001b[34m[21:10:59] src/tree/updater_prune.cc:74: tree pruning end, 1 roots, 46 extra nodes, 0 pruned nodes, max_depth=6\u001b[0m\n",
      "\u001b[34m[16]#011train-error:0.115439#011validation-error:0.138447\u001b[0m\n",
      "\u001b[34m[21:10:59] src/tree/updater_prune.cc:74: tree pruning end, 1 roots, 64 extra nodes, 0 pruned nodes, max_depth=6\u001b[0m\n",
      "\u001b[34m[17]#011train-error:0.115439#011validation-error:0.137979\u001b[0m\n",
      "\u001b[34m[21:10:59] src/tree/updater_prune.cc:74: tree pruning end, 1 roots, 44 extra nodes, 0 pruned nodes, max_depth=6\u001b[0m\n",
      "\u001b[34m[18]#011train-error:0.115439#011validation-error:0.138447\u001b[0m\n",
      "\u001b[34m[21:10:59] src/tree/updater_prune.cc:74: tree pruning end, 1 roots, 36 extra nodes, 0 pruned nodes, max_depth=6\u001b[0m\n",
      "\u001b[34m[19]#011train-error:0.115789#011validation-error:0.138447\u001b[0m\n",
      "\u001b[34m[21:10:59] src/tree/updater_prune.cc:74: tree pruning end, 1 roots, 24 extra nodes, 0 pruned nodes, max_depth=6\u001b[0m\n",
      "\u001b[34m[20]#011train-error:0.114386#011validation-error:0.138447\u001b[0m\n",
      "\u001b[34m[21:10:59] src/tree/updater_prune.cc:74: tree pruning end, 1 roots, 32 extra nodes, 0 pruned nodes, max_depth=6\u001b[0m\n",
      "\u001b[34m[21]#011train-error:0.114737#011validation-error:0.138447\u001b[0m\n",
      "\u001b[34m[21:10:59] src/tree/updater_prune.cc:74: tree pruning end, 1 roots, 44 extra nodes, 0 pruned nodes, max_depth=6\u001b[0m\n",
      "\u001b[34m[22]#011train-error:0.115088#011validation-error:0.140318\u001b[0m\n",
      "\u001b[34m[21:10:59] src/tree/updater_prune.cc:74: tree pruning end, 1 roots, 42 extra nodes, 0 pruned nodes, max_depth=6\u001b[0m\n",
      "\u001b[34m[23]#011train-error:0.114035#011validation-error:0.139383\u001b[0m\n",
      "\u001b[34m[21:10:59] src/tree/updater_prune.cc:74: tree pruning end, 1 roots, 44 extra nodes, 0 pruned nodes, max_depth=6\u001b[0m\n",
      "\u001b[34m[24]#011train-error:0.112632#011validation-error:0.137979\u001b[0m\n",
      "\u001b[34m[21:10:59] src/tree/updater_prune.cc:74: tree pruning end, 1 roots, 12 extra nodes, 0 pruned nodes, max_depth=6\u001b[0m\n",
      "\u001b[34m[25]#011train-error:0.112632#011validation-error:0.137979\u001b[0m\n",
      "\u001b[34m[21:10:59] src/tree/updater_prune.cc:74: tree pruning end, 1 roots, 32 extra nodes, 0 pruned nodes, max_depth=6\u001b[0m\n",
      "\u001b[34m[26]#011train-error:0.110877#011validation-error:0.138447\u001b[0m\n",
      "\u001b[34m[21:10:59] src/tree/updater_prune.cc:74: tree pruning end, 1 roots, 42 extra nodes, 0 pruned nodes, max_depth=6\u001b[0m\n",
      "\u001b[34m[27]#011train-error:0.110526#011validation-error:0.138915\u001b[0m\n",
      "\u001b[34m[21:10:59] src/tree/updater_prune.cc:74: tree pruning end, 1 roots, 40 extra nodes, 0 pruned nodes, max_depth=6\u001b[0m\n",
      "\u001b[34m[28]#011train-error:0.109474#011validation-error:0.139383\u001b[0m\n",
      "\u001b[34m[21:10:59] src/tree/updater_prune.cc:74: tree pruning end, 1 roots, 36 extra nodes, 0 pruned nodes, max_depth=6\u001b[0m\n",
      "\u001b[34m[29]#011train-error:0.109474#011validation-error:0.139383\u001b[0m\n",
      "\u001b[34m[21:10:59] src/tree/updater_prune.cc:74: tree pruning end, 1 roots, 60 extra nodes, 0 pruned nodes, max_depth=6\u001b[0m\n",
      "\u001b[34m[30]#011train-error:0.109123#011validation-error:0.13985\u001b[0m\n",
      "\u001b[34m[21:10:59] src/tree/updater_prune.cc:74: tree pruning end, 1 roots, 28 extra nodes, 0 pruned nodes, max_depth=6\u001b[0m\n",
      "\u001b[34m[31]#011train-error:0.107368#011validation-error:0.141254\u001b[0m\n",
      "\u001b[34m[21:10:59] src/tree/updater_prune.cc:74: tree pruning end, 1 roots, 24 extra nodes, 0 pruned nodes, max_depth=6\u001b[0m\n",
      "\u001b[34m[32]#011train-error:0.107018#011validation-error:0.140786\u001b[0m\n",
      "\u001b[34m[21:10:59] src/tree/updater_prune.cc:74: tree pruning end, 1 roots, 42 extra nodes, 0 pruned nodes, max_depth=6\u001b[0m\n",
      "\u001b[34m[33]#011train-error:0.105614#011validation-error:0.141254\u001b[0m\n",
      "\u001b[34m[21:10:59] src/tree/updater_prune.cc:74: tree pruning end, 1 roots, 18 extra nodes, 0 pruned nodes, max_depth=6\u001b[0m\n",
      "\u001b[34m[34]#011train-error:0.105614#011validation-error:0.141254\u001b[0m\n",
      "\u001b[34m[21:10:59] src/tree/updater_prune.cc:74: tree pruning end, 1 roots, 30 extra nodes, 0 pruned nodes, max_depth=6\u001b[0m\n",
      "\u001b[34m[35]#011train-error:0.104561#011validation-error:0.142189\u001b[0m\n",
      "\u001b[34m[21:10:59] src/tree/updater_prune.cc:74: tree pruning end, 1 roots, 38 extra nodes, 0 pruned nodes, max_depth=6\u001b[0m\n",
      "\u001b[34m[36]#011train-error:0.102105#011validation-error:0.143124\u001b[0m\n",
      "\u001b[34m[21:10:59] src/tree/updater_prune.cc:74: tree pruning end, 1 roots, 14 extra nodes, 0 pruned nodes, max_depth=6\u001b[0m\n",
      "\u001b[34m[37]#011train-error:0.102105#011validation-error:0.143592\u001b[0m\n",
      "\u001b[34m[21:10:59] src/tree/updater_prune.cc:74: tree pruning end, 1 roots, 38 extra nodes, 0 pruned nodes, max_depth=6\u001b[0m\n",
      "\u001b[34m[38]#011train-error:0.101754#011validation-error:0.143592\u001b[0m\n",
      "\u001b[34m[21:10:59] src/tree/updater_prune.cc:74: tree pruning end, 1 roots, 18 extra nodes, 0 pruned nodes, max_depth=6\u001b[0m\n",
      "\u001b[34m[39]#011train-error:0.101404#011validation-error:0.14406\u001b[0m\n",
      "\u001b[34m[40]#011train-error:0.100702#011validation-error:0.14406\u001b[0m\n",
      "\u001b[34m[41]#011train-error:0.098947#011validation-error:0.144528\u001b[0m\n",
      "\u001b[34m[42]#011train-error:0.098947#011validation-error:0.144528\u001b[0m\n",
      "\u001b[34m[21:10:59] src/tree/updater_prune.cc:74: tree pruning end, 1 roots, 52 extra nodes, 0 pruned nodes, max_depth=6\u001b[0m\n",
      "\u001b[34m[21:10:59] src/tree/updater_prune.cc:74: tree pruning end, 1 roots, 28 extra nodes, 0 pruned nodes, max_depth=6\u001b[0m\n",
      "\u001b[34m[21:10:59] src/tree/updater_prune.cc:74: tree pruning end, 1 roots, 34 extra nodes, 0 pruned nodes, max_depth=6\u001b[0m\n",
      "\u001b[34m[21:10:59] src/tree/updater_prune.cc:74: tree pruning end, 1 roots, 60 extra nodes, 0 pruned nodes, max_depth=6\u001b[0m\n",
      "\u001b[34m[43]#011train-error:0.098596#011validation-error:0.144995\u001b[0m\n",
      "\u001b[34m[21:10:59] src/tree/updater_prune.cc:74: tree pruning end, 1 roots, 24 extra nodes, 0 pruned nodes, max_depth=6\u001b[0m\n",
      "\u001b[34m[44]#011train-error:0.097544#011validation-error:0.147334\u001b[0m\n",
      "\u001b[34m[21:10:59] src/tree/updater_prune.cc:74: tree pruning end, 1 roots, 50 extra nodes, 0 pruned nodes, max_depth=6\u001b[0m\n",
      "\u001b[34m[45]#011train-error:0.097193#011validation-error:0.147334\u001b[0m\n",
      "\u001b[34m[21:10:59] src/tree/updater_prune.cc:74: tree pruning end, 1 roots, 88 extra nodes, 0 pruned nodes, max_depth=6\u001b[0m\n",
      "\u001b[34m[46]#011train-error:0.096491#011validation-error:0.146866\u001b[0m\n",
      "\u001b[34m[21:10:59] src/tree/updater_prune.cc:74: tree pruning end, 1 roots, 46 extra nodes, 0 pruned nodes, max_depth=6\u001b[0m\n",
      "\u001b[34m[47]#011train-error:0.09614#011validation-error:0.147802\u001b[0m\n",
      "\u001b[34m[21:10:59] src/tree/updater_prune.cc:74: tree pruning end, 1 roots, 26 extra nodes, 0 pruned nodes, max_depth=6\u001b[0m\n",
      "\u001b[34m[48]#011train-error:0.09614#011validation-error:0.147802\u001b[0m\n",
      "\u001b[34m[21:10:59] src/tree/updater_prune.cc:74: tree pruning end, 1 roots, 18 extra nodes, 0 pruned nodes, max_depth=6\u001b[0m\n",
      "\u001b[34m[49]#011train-error:0.095789#011validation-error:0.147802\u001b[0m\n",
      "\u001b[34m[21:10:59] src/tree/updater_prune.cc:74: tree pruning end, 1 roots, 14 extra nodes, 0 pruned nodes, max_depth=6\u001b[0m\n",
      "\u001b[34m[50]#011train-error:0.095789#011validation-error:0.147802\u001b[0m\n",
      "\u001b[34m[21:10:59] src/tree/updater_prune.cc:74: tree pruning end, 1 roots, 12 extra nodes, 0 pruned nodes, max_depth=6\u001b[0m\n",
      "\u001b[34m[51]#011train-error:0.095439#011validation-error:0.147802\u001b[0m\n",
      "\u001b[34m[21:10:59] src/tree/updater_prune.cc:74: tree pruning end, 1 roots, 16 extra nodes, 0 pruned nodes, max_depth=6\u001b[0m\n",
      "\u001b[34m[52]#011train-error:0.095439#011validation-error:0.147802\u001b[0m\n",
      "\u001b[34m[21:10:59] src/tree/updater_prune.cc:74: tree pruning end, 1 roots, 36 extra nodes, 0 pruned nodes, max_depth=6\u001b[0m\n",
      "\u001b[34m[53]#011train-error:0.095088#011validation-error:0.147334\u001b[0m\n",
      "\u001b[34m[21:10:59] src/tree/updater_prune.cc:74: tree pruning end, 1 roots, 26 extra nodes, 0 pruned nodes, max_depth=6\u001b[0m\n",
      "\u001b[34m[54]#011train-error:0.095439#011validation-error:0.146866\u001b[0m\n",
      "\u001b[34m[21:10:59] src/tree/updater_prune.cc:74: tree pruning end, 1 roots, 20 extra nodes, 0 pruned nodes, max_depth=6\u001b[0m\n",
      "\u001b[34m[55]#011train-error:0.095088#011validation-error:0.147334\u001b[0m\n",
      "\u001b[34m[21:10:59] src/tree/updater_prune.cc:74: tree pruning end, 1 roots, 56 extra nodes, 0 pruned nodes, max_depth=6\u001b[0m\n",
      "\u001b[34m[56]#011train-error:0.094737#011validation-error:0.146398\u001b[0m\n",
      "\u001b[34m[21:10:59] src/tree/updater_prune.cc:74: tree pruning end, 1 roots, 16 extra nodes, 0 pruned nodes, max_depth=6\u001b[0m\n",
      "\u001b[34m[57]#011train-error:0.094386#011validation-error:0.146866\u001b[0m\n",
      "\u001b[34m[21:10:59] src/tree/updater_prune.cc:74: tree pruning end, 1 roots, 14 extra nodes, 0 pruned nodes, max_depth=6\u001b[0m\n",
      "\u001b[34m[58]#011train-error:0.094737#011validation-error:0.146866\u001b[0m\n",
      "\u001b[34m[21:10:59] src/tree/updater_prune.cc:74: tree pruning end, 1 roots, 14 extra nodes, 0 pruned nodes, max_depth=6\u001b[0m\n",
      "\u001b[34m[59]#011train-error:0.095088#011validation-error:0.146866\u001b[0m\n",
      "\u001b[34m[21:10:59] src/tree/updater_prune.cc:74: tree pruning end, 1 roots, 28 extra nodes, 0 pruned nodes, max_depth=6\u001b[0m\n",
      "\u001b[34m[60]#011train-error:0.093684#011validation-error:0.146398\u001b[0m\n",
      "\u001b[34m[21:10:59] src/tree/updater_prune.cc:74: tree pruning end, 1 roots, 44 extra nodes, 0 pruned nodes, max_depth=6\u001b[0m\n",
      "\u001b[34m[61]#011train-error:0.093684#011validation-error:0.146398\u001b[0m\n",
      "\u001b[34m[21:10:59] src/tree/updater_prune.cc:74: tree pruning end, 1 roots, 28 extra nodes, 0 pruned nodes, max_depth=6\u001b[0m\n",
      "\u001b[34m[62]#011train-error:0.092982#011validation-error:0.146398\u001b[0m\n",
      "\u001b[34m[21:10:59] src/tree/updater_prune.cc:74: tree pruning end, 1 roots, 36 extra nodes, 0 pruned nodes, max_depth=6\u001b[0m\n",
      "\u001b[34m[63]#011train-error:0.09193#011validation-error:0.146866\u001b[0m\n",
      "\u001b[34m[21:10:59] src/tree/updater_prune.cc:74: tree pruning end, 1 roots, 30 extra nodes, 0 pruned nodes, max_depth=6\u001b[0m\n",
      "\u001b[34m[64]#011train-error:0.090526#011validation-error:0.145931\u001b[0m\n",
      "\u001b[34m[21:10:59] src/tree/updater_prune.cc:74: tree pruning end, 1 roots, 34 extra nodes, 0 pruned nodes, max_depth=6\u001b[0m\n",
      "\u001b[34m[65]#011train-error:0.089123#011validation-error:0.145463\u001b[0m\n",
      "\u001b[34m[21:10:59] src/tree/updater_prune.cc:74: tree pruning end, 1 roots, 36 extra nodes, 0 pruned nodes, max_depth=6\u001b[0m\n",
      "\u001b[34m[66]#011train-error:0.088421#011validation-error:0.147334\u001b[0m\n",
      "\u001b[34m[21:10:59] src/tree/updater_prune.cc:74: tree pruning end, 1 roots, 22 extra nodes, 0 pruned nodes, max_depth=6\u001b[0m\n",
      "\u001b[34m[67]#011train-error:0.088421#011validation-error:0.147334\u001b[0m\n",
      "\u001b[34m[21:10:59] src/tree/updater_prune.cc:74: tree pruning end, 1 roots, 16 extra nodes, 0 pruned nodes, max_depth=6\u001b[0m\n",
      "\u001b[34m[68]#011train-error:0.088421#011validation-error:0.147334\u001b[0m\n",
      "\u001b[34m[21:10:59] src/tree/updater_prune.cc:74: tree pruning end, 1 roots, 50 extra nodes, 0 pruned nodes, max_depth=6\u001b[0m\n",
      "\u001b[34m[69]#011train-error:0.087719#011validation-error:0.147334\u001b[0m\n",
      "\u001b[34m[21:10:59] src/tree/updater_prune.cc:74: tree pruning end, 1 roots, 36 extra nodes, 0 pruned nodes, max_depth=6\u001b[0m\n",
      "\u001b[34m[70]#011train-error:0.08807#011validation-error:0.146866\u001b[0m\n",
      "\u001b[34m[21:10:59] src/tree/updater_prune.cc:74: tree pruning end, 1 roots, 20 extra nodes, 0 pruned nodes, max_depth=6\u001b[0m\n",
      "\u001b[34m[71]#011train-error:0.087368#011validation-error:0.147334\u001b[0m\n",
      "\u001b[34m[21:10:59] src/tree/updater_prune.cc:74: tree pruning end, 1 roots, 36 extra nodes, 0 pruned nodes, max_depth=6\u001b[0m\n",
      "\u001b[34m[72]#011train-error:0.086316#011validation-error:0.147334\u001b[0m\n",
      "\u001b[34m[21:10:59] src/tree/updater_prune.cc:74: tree pruning end, 1 roots, 42 extra nodes, 0 pruned nodes, max_depth=6\u001b[0m\n",
      "\u001b[34m[73]#011train-error:0.086316#011validation-error:0.146866\u001b[0m\n",
      "\u001b[34m[21:10:59] src/tree/updater_prune.cc:74: tree pruning end, 1 roots, 26 extra nodes, 0 pruned nodes, max_depth=6\u001b[0m\n",
      "\u001b[34m[74]#011train-error:0.086667#011validation-error:0.146398\u001b[0m\n",
      "\u001b[34m[21:10:59] src/tree/updater_prune.cc:74: tree pruning end, 1 roots, 30 extra nodes, 0 pruned nodes, max_depth=6\u001b[0m\n",
      "\u001b[34m[75]#011train-error:0.086667#011validation-error:0.146866\u001b[0m\n",
      "\u001b[34m[21:10:59] src/tree/updater_prune.cc:74: tree pruning end, 1 roots, 46 extra nodes, 0 pruned nodes, max_depth=6\u001b[0m\n",
      "\u001b[34m[76]#011train-error:0.086316#011validation-error:0.145931\u001b[0m\n",
      "\u001b[34m[21:10:59] src/tree/updater_prune.cc:74: tree pruning end, 1 roots, 20 extra nodes, 0 pruned nodes, max_depth=6\u001b[0m\n",
      "\u001b[34m[77]#011train-error:0.085614#011validation-error:0.145931\u001b[0m\n",
      "\u001b[34m[21:10:59] src/tree/updater_prune.cc:74: tree pruning end, 1 roots, 22 extra nodes, 0 pruned nodes, max_depth=6\u001b[0m\n",
      "\u001b[34m[78]#011train-error:0.085263#011validation-error:0.145931\u001b[0m\n",
      "\u001b[34m[21:10:59] src/tree/updater_prune.cc:74: tree pruning end, 1 roots, 22 extra nodes, 0 pruned nodes, max_depth=6\u001b[0m\n",
      "\u001b[34m[79]#011train-error:0.085965#011validation-error:0.146398\u001b[0m\n",
      "\u001b[34m[21:10:59] src/tree/updater_prune.cc:74: tree pruning end, 1 roots, 16 extra nodes, 0 pruned nodes, max_depth=6\u001b[0m\n",
      "\u001b[34m[80]#011train-error:0.085614#011validation-error:0.146866\u001b[0m\n",
      "\u001b[34m[21:10:59] src/tree/updater_prune.cc:74: tree pruning end, 1 roots, 34 extra nodes, 0 pruned nodes, max_depth=6\u001b[0m\n",
      "\u001b[34m[81]#011train-error:0.08386#011validation-error:0.146398\u001b[0m\n",
      "\u001b[34m[21:10:59] src/tree/updater_prune.cc:74: tree pruning end, 1 roots, 34 extra nodes, 0 pruned nodes, max_depth=6\u001b[0m\n",
      "\u001b[34m[82]#011train-error:0.083158#011validation-error:0.146866\u001b[0m\n",
      "\u001b[34m[21:10:59] src/tree/updater_prune.cc:74: tree pruning end, 1 roots, 24 extra nodes, 0 pruned nodes, max_depth=6\u001b[0m\n",
      "\u001b[34m[83]#011train-error:0.082807#011validation-error:0.146866\u001b[0m\n",
      "\u001b[34m[21:10:59] src/tree/updater_prune.cc:74: tree pruning end, 1 roots, 20 extra nodes, 0 pruned nodes, max_depth=6\u001b[0m\n",
      "\u001b[34m[84]#011train-error:0.082807#011validation-error:0.147334\u001b[0m\n",
      "\u001b[34m[21:10:59] src/tree/updater_prune.cc:74: tree pruning end, 1 roots, 24 extra nodes, 0 pruned nodes, max_depth=6\u001b[0m\n",
      "\u001b[34m[85]#011train-error:0.082807#011validation-error:0.148269\u001b[0m\n",
      "\u001b[34m[21:10:59] src/tree/updater_prune.cc:74: tree pruning end, 1 roots, 22 extra nodes, 0 pruned nodes, max_depth=6\u001b[0m\n",
      "\u001b[34m[86]#011train-error:0.082105#011validation-error:0.148269\u001b[0m\n",
      "\u001b[34m[21:10:59] src/tree/updater_prune.cc:74: tree pruning end, 1 roots, 26 extra nodes, 0 pruned nodes, max_depth=6\u001b[0m\n",
      "\u001b[34m[87]#011train-error:0.081754#011validation-error:0.148737\u001b[0m\n",
      "\u001b[34m[21:10:59] src/tree/updater_prune.cc:74: tree pruning end, 1 roots, 42 extra nodes, 0 pruned nodes, max_depth=6\u001b[0m\n",
      "\u001b[34m[88]#011train-error:0.080351#011validation-error:0.148269\u001b[0m\n",
      "\u001b[34m[21:10:59] src/tree/updater_prune.cc:74: tree pruning end, 1 roots, 30 extra nodes, 0 pruned nodes, max_depth=6\u001b[0m\n",
      "\u001b[34m[89]#011train-error:0.081053#011validation-error:0.148737\u001b[0m\n",
      "\u001b[34m[21:10:59] src/tree/updater_prune.cc:74: tree pruning end, 1 roots, 14 extra nodes, 0 pruned nodes, max_depth=6\u001b[0m\n",
      "\u001b[34m[90]#011train-error:0.081053#011validation-error:0.149205\u001b[0m\n",
      "\u001b[34m[21:10:59] src/tree/updater_prune.cc:74: tree pruning end, 1 roots, 30 extra nodes, 0 pruned nodes, max_depth=6\u001b[0m\n",
      "\u001b[34m[91]#011train-error:0.080351#011validation-error:0.148737\u001b[0m\n",
      "\u001b[34m[21:10:59] src/tree/updater_prune.cc:74: tree pruning end, 1 roots, 42 extra nodes, 0 pruned nodes, max_depth=6\u001b[0m\n",
      "\u001b[34m[92]#011train-error:0.079649#011validation-error:0.149673\u001b[0m\n",
      "\u001b[34m[21:10:59] src/tree/updater_prune.cc:74: tree pruning end, 1 roots, 28 extra nodes, 0 pruned nodes, max_depth=6\u001b[0m\n",
      "\u001b[34m[93]#011train-error:0.08#011validation-error:0.15014\u001b[0m\n",
      "\u001b[34m[21:10:59] src/tree/updater_prune.cc:74: tree pruning end, 1 roots, 40 extra nodes, 0 pruned nodes, max_depth=6\u001b[0m\n",
      "\u001b[34m[94]#011train-error:0.078246#011validation-error:0.149673\u001b[0m\n",
      "\u001b[34m[21:10:59] src/tree/updater_prune.cc:74: tree pruning end, 1 roots, 32 extra nodes, 0 pruned nodes, max_depth=6\u001b[0m\n",
      "\u001b[34m[95]#011train-error:0.077895#011validation-error:0.151076\u001b[0m\n",
      "\u001b[34m[21:10:59] src/tree/updater_prune.cc:74: tree pruning end, 1 roots, 28 extra nodes, 0 pruned nodes, max_depth=6\u001b[0m\n",
      "\u001b[34m[96]#011train-error:0.077895#011validation-error:0.150608\u001b[0m\n",
      "\u001b[34m[21:10:59] src/tree/updater_prune.cc:74: tree pruning end, 1 roots, 20 extra nodes, 0 pruned nodes, max_depth=6\u001b[0m\n",
      "\u001b[34m[97]#011train-error:0.078246#011validation-error:0.15014\u001b[0m\n",
      "\u001b[34m[21:10:59] src/tree/updater_prune.cc:74: tree pruning end, 1 roots, 30 extra nodes, 0 pruned nodes, max_depth=6\u001b[0m\n",
      "\u001b[34m[98]#011train-error:0.078246#011validation-error:0.15014\u001b[0m\n",
      "\u001b[34m[21:10:59] src/tree/updater_prune.cc:74: tree pruning end, 1 roots, 22 extra nodes, 0 pruned nodes, max_depth=6\u001b[0m\n",
      "\u001b[34m[99]#011train-error:0.078596#011validation-error:0.150608\u001b[0m\n",
      "\n",
      "2024-06-30 21:11:20 Completed - Training job completed\n",
      "Training seconds: 89\n",
      "Billable seconds: 89\n"
     ]
    }
   ],
   "source": [
    "import sagemaker\n",
    "from sagemaker import get_execution_role\n",
    "from sagemaker.image_uris import retrieve\n",
    "\n",
    "role = get_execution_role()\n",
    "sess = sagemaker.Session()\n",
    "\n",
    "bucket = 'electronics-dataset'\n",
    "prefix = 'sagemaker/benchmark-model'\n",
    "train_path = f's3://{bucket}/{prefix}/train/train_data.libsvm'\n",
    "val_path = f's3://{bucket}/{prefix}/val/val_data.libsvm'\n",
    "\n",
    "container = retrieve('xgboost', sess.boto_region_name, version='latest')\n",
    "\n",
    "xgb = sagemaker.estimator.Estimator(container,\n",
    "                                    role,\n",
    "                                    instance_count=1,\n",
    "                                    instance_type='ml.m5.xlarge',\n",
    "                                    output_path=f's3://{bucket}/{prefix}/output',\n",
    "                                    sagemaker_session=sess)\n",
    "\n",
    "xgb.set_hyperparameters(objective='binary:logistic', num_round=100)\n",
    "\n",
    "xgb.fit({'train': train_path, 'validation': val_path})"
   ]
  },
  {
   "cell_type": "markdown",
   "id": "709224a0-0a53-41b4-a7d9-6597204f6d6e",
   "metadata": {},
   "source": [
    "## Deploy the Model\n"
   ]
  },
  {
   "cell_type": "code",
   "execution_count": null,
   "id": "b3158686-0259-4ede-89de-a5aebf6023f7",
   "metadata": {
    "tags": []
   },
   "outputs": [
    {
     "name": "stderr",
     "output_type": "stream",
     "text": [
      "INFO:sagemaker:Creating model with name: xgboost-2024-06-30-21-11-52-811\n",
      "INFO:sagemaker:Creating endpoint-config with name xgboost-2024-06-30-21-11-52-811\n",
      "INFO:sagemaker:Creating endpoint with name xgboost-2024-06-30-21-11-52-811\n"
     ]
    },
    {
     "name": "stdout",
     "output_type": "stream",
     "text": [
      "---"
     ]
    }
   ],
   "source": [
    "# Deploy the model to an endpoint\n",
    "xgb_predictor = xgb.deploy(\n",
    "    initial_instance_count=1,\n",
    "    instance_type='ml.m5.xlarge'\n",
    ")"
   ]
  },
  {
   "cell_type": "markdown",
   "id": "0834f204-24ce-4e81-a7a5-2758878162bc",
   "metadata": {},
   "source": [
    "## Make Predictions\n"
   ]
  },
  {
   "cell_type": "code",
   "execution_count": 31,
   "id": "540d679f-18b9-489c-a86e-1164eb8484de",
   "metadata": {
    "tags": []
   },
   "outputs": [],
   "source": [
    "from sagemaker.deserializers import StringDeserializer\n"
   ]
  },
  {
   "cell_type": "code",
   "execution_count": 37,
   "id": "074fe900-d745-4629-93f3-88d3da85b96e",
   "metadata": {
    "tags": []
   },
   "outputs": [
    {
     "name": "stderr",
     "output_type": "stream",
     "text": [
      "INFO:sagemaker:Deleting endpoint configuration with name: xgboost-2024-06-30-21-11-52-811\n"
     ]
    },
    {
     "name": "stdout",
     "output_type": "stream",
     "text": [
      "Accuracy: 0.8493919550982226\n",
      "Confusion Matrix:\n",
      "[[  37  265]\n",
      " [  57 1779]]\n",
      "Classification Report:\n",
      "              precision    recall  f1-score   support\n",
      "\n",
      "           0       0.39      0.12      0.19       302\n",
      "           1       0.87      0.97      0.92      1836\n",
      "\n",
      "    accuracy                           0.85      2138\n",
      "   macro avg       0.63      0.55      0.55      2138\n",
      "weighted avg       0.80      0.85      0.81      2138\n",
      "\n"
     ]
    },
    {
     "name": "stderr",
     "output_type": "stream",
     "text": [
      "INFO:sagemaker:Deleting endpoint with name: xgboost-2024-06-30-21-11-52-811\n"
     ]
    },
    {
     "name": "stdout",
     "output_type": "stream",
     "text": [
      "Endpoint deleted.\n"
     ]
    }
   ],
   "source": [
    "def predict(predictor, data_path, threshold=0.5):\n",
    "    df = pd.read_csv(data_path)\n",
    "    labels = df['reviews.rating']\n",
    "    features = df.select_dtypes(include=[float, int]).drop(columns=['reviews.rating'])\n",
    "    \n",
    "    # Predict\n",
    "    predictor.serializer = CSVSerializer()\n",
    "    predictor.deserializer = StringDeserializer()\n",
    "    predictions = predictor.predict(features.to_numpy())\n",
    "    \n",
    "    # Extract predictions\n",
    "    predictions_str = predictions.strip()\n",
    "    predictions_list = predictions_str.split(',')\n",
    "    predicted_labels = [int(float(prediction) > threshold) for prediction in predictions_list]\n",
    "    return labels, predicted_labels\n",
    "\n",
    "# Predict on test data\n",
    "test_labels, test_predictions = predict(xgb_predictor, 'test_data_binary.csv')\n",
    "\n",
    "# Evaluate the model\n",
    "accuracy = accuracy_score(test_labels, test_predictions)\n",
    "conf_matrix = confusion_matrix(test_labels, test_predictions)\n",
    "class_report = classification_report(test_labels, test_predictions)\n",
    "\n",
    "print(f\"Accuracy: {accuracy}\")\n",
    "print(f\"Confusion Matrix:\\n{conf_matrix}\")\n",
    "print(f\"Classification Report:\\n{class_report}\")\n",
    "\n",
    "# Clean up the endpoint\n",
    "xgb_predictor.delete_endpoint()\n",
    "print(\"Endpoint deleted.\")"
   ]
  },
  {
   "cell_type": "code",
   "execution_count": null,
   "id": "ee52e438-b85c-4bb1-9b89-9941c05307fd",
   "metadata": {},
   "outputs": [],
   "source": []
  }
 ],
 "metadata": {
  "availableInstances": [
   {
    "_defaultOrder": 0,
    "_isFastLaunch": true,
    "category": "General purpose",
    "gpuNum": 0,
    "hideHardwareSpecs": false,
    "memoryGiB": 4,
    "name": "ml.t3.medium",
    "vcpuNum": 2
   },
   {
    "_defaultOrder": 1,
    "_isFastLaunch": false,
    "category": "General purpose",
    "gpuNum": 0,
    "hideHardwareSpecs": false,
    "memoryGiB": 8,
    "name": "ml.t3.large",
    "vcpuNum": 2
   },
   {
    "_defaultOrder": 2,
    "_isFastLaunch": false,
    "category": "General purpose",
    "gpuNum": 0,
    "hideHardwareSpecs": false,
    "memoryGiB": 16,
    "name": "ml.t3.xlarge",
    "vcpuNum": 4
   },
   {
    "_defaultOrder": 3,
    "_isFastLaunch": false,
    "category": "General purpose",
    "gpuNum": 0,
    "hideHardwareSpecs": false,
    "memoryGiB": 32,
    "name": "ml.t3.2xlarge",
    "vcpuNum": 8
   },
   {
    "_defaultOrder": 4,
    "_isFastLaunch": true,
    "category": "General purpose",
    "gpuNum": 0,
    "hideHardwareSpecs": false,
    "memoryGiB": 8,
    "name": "ml.m5.large",
    "vcpuNum": 2
   },
   {
    "_defaultOrder": 5,
    "_isFastLaunch": false,
    "category": "General purpose",
    "gpuNum": 0,
    "hideHardwareSpecs": false,
    "memoryGiB": 16,
    "name": "ml.m5.xlarge",
    "vcpuNum": 4
   },
   {
    "_defaultOrder": 6,
    "_isFastLaunch": false,
    "category": "General purpose",
    "gpuNum": 0,
    "hideHardwareSpecs": false,
    "memoryGiB": 32,
    "name": "ml.m5.2xlarge",
    "vcpuNum": 8
   },
   {
    "_defaultOrder": 7,
    "_isFastLaunch": false,
    "category": "General purpose",
    "gpuNum": 0,
    "hideHardwareSpecs": false,
    "memoryGiB": 64,
    "name": "ml.m5.4xlarge",
    "vcpuNum": 16
   },
   {
    "_defaultOrder": 8,
    "_isFastLaunch": false,
    "category": "General purpose",
    "gpuNum": 0,
    "hideHardwareSpecs": false,
    "memoryGiB": 128,
    "name": "ml.m5.8xlarge",
    "vcpuNum": 32
   },
   {
    "_defaultOrder": 9,
    "_isFastLaunch": false,
    "category": "General purpose",
    "gpuNum": 0,
    "hideHardwareSpecs": false,
    "memoryGiB": 192,
    "name": "ml.m5.12xlarge",
    "vcpuNum": 48
   },
   {
    "_defaultOrder": 10,
    "_isFastLaunch": false,
    "category": "General purpose",
    "gpuNum": 0,
    "hideHardwareSpecs": false,
    "memoryGiB": 256,
    "name": "ml.m5.16xlarge",
    "vcpuNum": 64
   },
   {
    "_defaultOrder": 11,
    "_isFastLaunch": false,
    "category": "General purpose",
    "gpuNum": 0,
    "hideHardwareSpecs": false,
    "memoryGiB": 384,
    "name": "ml.m5.24xlarge",
    "vcpuNum": 96
   },
   {
    "_defaultOrder": 12,
    "_isFastLaunch": false,
    "category": "General purpose",
    "gpuNum": 0,
    "hideHardwareSpecs": false,
    "memoryGiB": 8,
    "name": "ml.m5d.large",
    "vcpuNum": 2
   },
   {
    "_defaultOrder": 13,
    "_isFastLaunch": false,
    "category": "General purpose",
    "gpuNum": 0,
    "hideHardwareSpecs": false,
    "memoryGiB": 16,
    "name": "ml.m5d.xlarge",
    "vcpuNum": 4
   },
   {
    "_defaultOrder": 14,
    "_isFastLaunch": false,
    "category": "General purpose",
    "gpuNum": 0,
    "hideHardwareSpecs": false,
    "memoryGiB": 32,
    "name": "ml.m5d.2xlarge",
    "vcpuNum": 8
   },
   {
    "_defaultOrder": 15,
    "_isFastLaunch": false,
    "category": "General purpose",
    "gpuNum": 0,
    "hideHardwareSpecs": false,
    "memoryGiB": 64,
    "name": "ml.m5d.4xlarge",
    "vcpuNum": 16
   },
   {
    "_defaultOrder": 16,
    "_isFastLaunch": false,
    "category": "General purpose",
    "gpuNum": 0,
    "hideHardwareSpecs": false,
    "memoryGiB": 128,
    "name": "ml.m5d.8xlarge",
    "vcpuNum": 32
   },
   {
    "_defaultOrder": 17,
    "_isFastLaunch": false,
    "category": "General purpose",
    "gpuNum": 0,
    "hideHardwareSpecs": false,
    "memoryGiB": 192,
    "name": "ml.m5d.12xlarge",
    "vcpuNum": 48
   },
   {
    "_defaultOrder": 18,
    "_isFastLaunch": false,
    "category": "General purpose",
    "gpuNum": 0,
    "hideHardwareSpecs": false,
    "memoryGiB": 256,
    "name": "ml.m5d.16xlarge",
    "vcpuNum": 64
   },
   {
    "_defaultOrder": 19,
    "_isFastLaunch": false,
    "category": "General purpose",
    "gpuNum": 0,
    "hideHardwareSpecs": false,
    "memoryGiB": 384,
    "name": "ml.m5d.24xlarge",
    "vcpuNum": 96
   },
   {
    "_defaultOrder": 20,
    "_isFastLaunch": false,
    "category": "General purpose",
    "gpuNum": 0,
    "hideHardwareSpecs": true,
    "memoryGiB": 0,
    "name": "ml.geospatial.interactive",
    "supportedImageNames": [
     "sagemaker-geospatial-v1-0"
    ],
    "vcpuNum": 0
   },
   {
    "_defaultOrder": 21,
    "_isFastLaunch": true,
    "category": "Compute optimized",
    "gpuNum": 0,
    "hideHardwareSpecs": false,
    "memoryGiB": 4,
    "name": "ml.c5.large",
    "vcpuNum": 2
   },
   {
    "_defaultOrder": 22,
    "_isFastLaunch": false,
    "category": "Compute optimized",
    "gpuNum": 0,
    "hideHardwareSpecs": false,
    "memoryGiB": 8,
    "name": "ml.c5.xlarge",
    "vcpuNum": 4
   },
   {
    "_defaultOrder": 23,
    "_isFastLaunch": false,
    "category": "Compute optimized",
    "gpuNum": 0,
    "hideHardwareSpecs": false,
    "memoryGiB": 16,
    "name": "ml.c5.2xlarge",
    "vcpuNum": 8
   },
   {
    "_defaultOrder": 24,
    "_isFastLaunch": false,
    "category": "Compute optimized",
    "gpuNum": 0,
    "hideHardwareSpecs": false,
    "memoryGiB": 32,
    "name": "ml.c5.4xlarge",
    "vcpuNum": 16
   },
   {
    "_defaultOrder": 25,
    "_isFastLaunch": false,
    "category": "Compute optimized",
    "gpuNum": 0,
    "hideHardwareSpecs": false,
    "memoryGiB": 72,
    "name": "ml.c5.9xlarge",
    "vcpuNum": 36
   },
   {
    "_defaultOrder": 26,
    "_isFastLaunch": false,
    "category": "Compute optimized",
    "gpuNum": 0,
    "hideHardwareSpecs": false,
    "memoryGiB": 96,
    "name": "ml.c5.12xlarge",
    "vcpuNum": 48
   },
   {
    "_defaultOrder": 27,
    "_isFastLaunch": false,
    "category": "Compute optimized",
    "gpuNum": 0,
    "hideHardwareSpecs": false,
    "memoryGiB": 144,
    "name": "ml.c5.18xlarge",
    "vcpuNum": 72
   },
   {
    "_defaultOrder": 28,
    "_isFastLaunch": false,
    "category": "Compute optimized",
    "gpuNum": 0,
    "hideHardwareSpecs": false,
    "memoryGiB": 192,
    "name": "ml.c5.24xlarge",
    "vcpuNum": 96
   },
   {
    "_defaultOrder": 29,
    "_isFastLaunch": true,
    "category": "Accelerated computing",
    "gpuNum": 1,
    "hideHardwareSpecs": false,
    "memoryGiB": 16,
    "name": "ml.g4dn.xlarge",
    "vcpuNum": 4
   },
   {
    "_defaultOrder": 30,
    "_isFastLaunch": false,
    "category": "Accelerated computing",
    "gpuNum": 1,
    "hideHardwareSpecs": false,
    "memoryGiB": 32,
    "name": "ml.g4dn.2xlarge",
    "vcpuNum": 8
   },
   {
    "_defaultOrder": 31,
    "_isFastLaunch": false,
    "category": "Accelerated computing",
    "gpuNum": 1,
    "hideHardwareSpecs": false,
    "memoryGiB": 64,
    "name": "ml.g4dn.4xlarge",
    "vcpuNum": 16
   },
   {
    "_defaultOrder": 32,
    "_isFastLaunch": false,
    "category": "Accelerated computing",
    "gpuNum": 1,
    "hideHardwareSpecs": false,
    "memoryGiB": 128,
    "name": "ml.g4dn.8xlarge",
    "vcpuNum": 32
   },
   {
    "_defaultOrder": 33,
    "_isFastLaunch": false,
    "category": "Accelerated computing",
    "gpuNum": 4,
    "hideHardwareSpecs": false,
    "memoryGiB": 192,
    "name": "ml.g4dn.12xlarge",
    "vcpuNum": 48
   },
   {
    "_defaultOrder": 34,
    "_isFastLaunch": false,
    "category": "Accelerated computing",
    "gpuNum": 1,
    "hideHardwareSpecs": false,
    "memoryGiB": 256,
    "name": "ml.g4dn.16xlarge",
    "vcpuNum": 64
   },
   {
    "_defaultOrder": 35,
    "_isFastLaunch": false,
    "category": "Accelerated computing",
    "gpuNum": 1,
    "hideHardwareSpecs": false,
    "memoryGiB": 61,
    "name": "ml.p3.2xlarge",
    "vcpuNum": 8
   },
   {
    "_defaultOrder": 36,
    "_isFastLaunch": false,
    "category": "Accelerated computing",
    "gpuNum": 4,
    "hideHardwareSpecs": false,
    "memoryGiB": 244,
    "name": "ml.p3.8xlarge",
    "vcpuNum": 32
   },
   {
    "_defaultOrder": 37,
    "_isFastLaunch": false,
    "category": "Accelerated computing",
    "gpuNum": 8,
    "hideHardwareSpecs": false,
    "memoryGiB": 488,
    "name": "ml.p3.16xlarge",
    "vcpuNum": 64
   },
   {
    "_defaultOrder": 38,
    "_isFastLaunch": false,
    "category": "Accelerated computing",
    "gpuNum": 8,
    "hideHardwareSpecs": false,
    "memoryGiB": 768,
    "name": "ml.p3dn.24xlarge",
    "vcpuNum": 96
   },
   {
    "_defaultOrder": 39,
    "_isFastLaunch": false,
    "category": "Memory Optimized",
    "gpuNum": 0,
    "hideHardwareSpecs": false,
    "memoryGiB": 16,
    "name": "ml.r5.large",
    "vcpuNum": 2
   },
   {
    "_defaultOrder": 40,
    "_isFastLaunch": false,
    "category": "Memory Optimized",
    "gpuNum": 0,
    "hideHardwareSpecs": false,
    "memoryGiB": 32,
    "name": "ml.r5.xlarge",
    "vcpuNum": 4
   },
   {
    "_defaultOrder": 41,
    "_isFastLaunch": false,
    "category": "Memory Optimized",
    "gpuNum": 0,
    "hideHardwareSpecs": false,
    "memoryGiB": 64,
    "name": "ml.r5.2xlarge",
    "vcpuNum": 8
   },
   {
    "_defaultOrder": 42,
    "_isFastLaunch": false,
    "category": "Memory Optimized",
    "gpuNum": 0,
    "hideHardwareSpecs": false,
    "memoryGiB": 128,
    "name": "ml.r5.4xlarge",
    "vcpuNum": 16
   },
   {
    "_defaultOrder": 43,
    "_isFastLaunch": false,
    "category": "Memory Optimized",
    "gpuNum": 0,
    "hideHardwareSpecs": false,
    "memoryGiB": 256,
    "name": "ml.r5.8xlarge",
    "vcpuNum": 32
   },
   {
    "_defaultOrder": 44,
    "_isFastLaunch": false,
    "category": "Memory Optimized",
    "gpuNum": 0,
    "hideHardwareSpecs": false,
    "memoryGiB": 384,
    "name": "ml.r5.12xlarge",
    "vcpuNum": 48
   },
   {
    "_defaultOrder": 45,
    "_isFastLaunch": false,
    "category": "Memory Optimized",
    "gpuNum": 0,
    "hideHardwareSpecs": false,
    "memoryGiB": 512,
    "name": "ml.r5.16xlarge",
    "vcpuNum": 64
   },
   {
    "_defaultOrder": 46,
    "_isFastLaunch": false,
    "category": "Memory Optimized",
    "gpuNum": 0,
    "hideHardwareSpecs": false,
    "memoryGiB": 768,
    "name": "ml.r5.24xlarge",
    "vcpuNum": 96
   },
   {
    "_defaultOrder": 47,
    "_isFastLaunch": false,
    "category": "Accelerated computing",
    "gpuNum": 1,
    "hideHardwareSpecs": false,
    "memoryGiB": 16,
    "name": "ml.g5.xlarge",
    "vcpuNum": 4
   },
   {
    "_defaultOrder": 48,
    "_isFastLaunch": false,
    "category": "Accelerated computing",
    "gpuNum": 1,
    "hideHardwareSpecs": false,
    "memoryGiB": 32,
    "name": "ml.g5.2xlarge",
    "vcpuNum": 8
   },
   {
    "_defaultOrder": 49,
    "_isFastLaunch": false,
    "category": "Accelerated computing",
    "gpuNum": 1,
    "hideHardwareSpecs": false,
    "memoryGiB": 64,
    "name": "ml.g5.4xlarge",
    "vcpuNum": 16
   },
   {
    "_defaultOrder": 50,
    "_isFastLaunch": false,
    "category": "Accelerated computing",
    "gpuNum": 1,
    "hideHardwareSpecs": false,
    "memoryGiB": 128,
    "name": "ml.g5.8xlarge",
    "vcpuNum": 32
   },
   {
    "_defaultOrder": 51,
    "_isFastLaunch": false,
    "category": "Accelerated computing",
    "gpuNum": 1,
    "hideHardwareSpecs": false,
    "memoryGiB": 256,
    "name": "ml.g5.16xlarge",
    "vcpuNum": 64
   },
   {
    "_defaultOrder": 52,
    "_isFastLaunch": false,
    "category": "Accelerated computing",
    "gpuNum": 4,
    "hideHardwareSpecs": false,
    "memoryGiB": 192,
    "name": "ml.g5.12xlarge",
    "vcpuNum": 48
   },
   {
    "_defaultOrder": 53,
    "_isFastLaunch": false,
    "category": "Accelerated computing",
    "gpuNum": 4,
    "hideHardwareSpecs": false,
    "memoryGiB": 384,
    "name": "ml.g5.24xlarge",
    "vcpuNum": 96
   },
   {
    "_defaultOrder": 54,
    "_isFastLaunch": false,
    "category": "Accelerated computing",
    "gpuNum": 8,
    "hideHardwareSpecs": false,
    "memoryGiB": 768,
    "name": "ml.g5.48xlarge",
    "vcpuNum": 192
   },
   {
    "_defaultOrder": 55,
    "_isFastLaunch": false,
    "category": "Accelerated computing",
    "gpuNum": 8,
    "hideHardwareSpecs": false,
    "memoryGiB": 1152,
    "name": "ml.p4d.24xlarge",
    "vcpuNum": 96
   },
   {
    "_defaultOrder": 56,
    "_isFastLaunch": false,
    "category": "Accelerated computing",
    "gpuNum": 8,
    "hideHardwareSpecs": false,
    "memoryGiB": 1152,
    "name": "ml.p4de.24xlarge",
    "vcpuNum": 96
   },
   {
    "_defaultOrder": 57,
    "_isFastLaunch": false,
    "category": "Accelerated computing",
    "gpuNum": 0,
    "hideHardwareSpecs": false,
    "memoryGiB": 32,
    "name": "ml.trn1.2xlarge",
    "vcpuNum": 8
   },
   {
    "_defaultOrder": 58,
    "_isFastLaunch": false,
    "category": "Accelerated computing",
    "gpuNum": 0,
    "hideHardwareSpecs": false,
    "memoryGiB": 512,
    "name": "ml.trn1.32xlarge",
    "vcpuNum": 128
   },
   {
    "_defaultOrder": 59,
    "_isFastLaunch": false,
    "category": "Accelerated computing",
    "gpuNum": 0,
    "hideHardwareSpecs": false,
    "memoryGiB": 512,
    "name": "ml.trn1n.32xlarge",
    "vcpuNum": 128
   }
  ],
  "instance_type": "ml.t3.medium",
  "kernelspec": {
   "display_name": "Python 3 (Data Science 3.0)",
   "language": "python",
   "name": "python3__SAGEMAKER_INTERNAL__arn:aws:sagemaker:us-east-1:081325390199:image/sagemaker-data-science-310-v1"
  },
  "language_info": {
   "codemirror_mode": {
    "name": "ipython",
    "version": 3
   },
   "file_extension": ".py",
   "mimetype": "text/x-python",
   "name": "python",
   "nbconvert_exporter": "python",
   "pygments_lexer": "ipython3",
   "version": "3.10.6"
  }
 },
 "nbformat": 4,
 "nbformat_minor": 5
}
